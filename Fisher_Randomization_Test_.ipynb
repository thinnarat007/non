{
  "nbformat": 4,
  "nbformat_minor": 0,
  "metadata": {
    "colab": {
      "provenance": [],
      "authorship_tag": "ABX9TyN58fdubgHE5DBGw8IN0WRA",
      "include_colab_link": true
    },
    "kernelspec": {
      "name": "python3",
      "display_name": "Python 3"
    },
    "language_info": {
      "name": "python"
    }
  },
  "cells": [
    {
      "cell_type": "markdown",
      "metadata": {
        "id": "view-in-github",
        "colab_type": "text"
      },
      "source": [
        "<a href=\"https://colab.research.google.com/github/thinnarat007/non/blob/main/Fisher_Randomization_Test_.ipynb\" target=\"_parent\"><img src=\"https://colab.research.google.com/assets/colab-badge.svg\" alt=\"Open In Colab\"/></a>"
      ]
    },
    {
      "cell_type": "markdown",
      "source": [
        "H0: มัธยฐานของประชากรสองกลุ่มที่สัมพันธ์กันเท่ากัน\n",
        "𝐻1:มัธยฐานของประชากรสองกลุ่มที่สัมพันธ์กันไม่เท่ากัน"
      ],
      "metadata": {
        "id": "7NODb_qKLHXj"
      }
    },
    {
      "cell_type": "code",
      "execution_count": 1,
      "metadata": {
        "colab": {
          "base_uri": "https://localhost:8080/"
        },
        "id": "CugGUHvFJ4CQ",
        "outputId": "d60c2099-743f-4256-a936-34c6b08c6d5a"
      },
      "outputs": [
        {
          "output_type": "stream",
          "name": "stdout",
          "text": [
            "data1: [10.  9.  6.]\n",
            "data2: [ 9. 11. 12.]\n"
          ]
        }
      ],
      "source": [
        "import numpy as np\n",
        "\n",
        "# กำหนดค่า seed โดยใช้ student_ID เช่น 2085\n",
        "np.random.seed(2085)  # แทนที่ 2085 ด้วย student_ID ของคุณ\n",
        "\n",
        "# สุ่มข้อมูลสองชุดตามการแจกแจงปกติ โดยมี mean=10 และ sd=2\n",
        "data1 = np.round(np.random.normal(10, 2, 3), 0)\n",
        "data2 = np.round(np.random.normal(10, 2, 3), 0)\n",
        "\n",
        "# แสดงผลข้อมูลทั้งสองชุด\n",
        "print(\"data1:\", data1)\n",
        "print(\"data2:\", data2)\n"
      ]
    },
    {
      "cell_type": "code",
      "source": [
        "# Step 1: คำนวณความแตกต่าง\n",
        "differences = data2 - data1\n",
        "\n",
        "# Step 2: คำนวณค่าสัมบูรณ์ของความแตกต่าง\n",
        "abs_differences = np.abs(differences)\n",
        "\n",
        "# Step 3: จัดลำดับความแตกต่างด้วยมือ (ไม่ใช้ฟังก์ชันสำเร็จรูป)\n",
        "sorted_diff = np.sort(abs_differences)\n",
        "ranks = np.zeros(len(abs_differences))\n",
        "\n",
        "for i in range(len(sorted_diff)):\n",
        "    for j in range(len(abs_differences)):\n",
        "        if sorted_diff[i] == abs_differences[j] and ranks[j] == 0:\n",
        "            ranks[j] = i + 1\n",
        "            break\n",
        "\n",
        "# Step 4: แยกค่าความแตกต่างที่เป็นบวกและลบ\n",
        "positive_ranks = []\n",
        "negative_ranks = []\n",
        "\n",
        "for i in range(len(differences)):\n",
        "    if differences[i] > 0:\n",
        "        positive_ranks.append(ranks[i])\n",
        "    elif differences[i] < 0:\n",
        "        negative_ranks.append(ranks[i])\n",
        "\n",
        "# Step 5: ผลรวมของลำดับที่เป็นบวกและลบ\n",
        "sum_positive_ranks = np.sum(positive_ranks)\n",
        "sum_negative_ranks = np.sum(negative_ranks)\n",
        "\n",
        "# Step 6: แสดงผลลัพธ์\n",
        "print(\"data1:\", data1)\n",
        "print(\"data2:\", data2)\n",
        "print(f\"ความแตกต่าง: {differences}\")\n",
        "print(f\"ค่าสัมบูรณ์ของความแตกต่าง: {abs_differences}\")\n",
        "print(f\"ลำดับของค่าความแตกต่าง: {ranks}\")\n",
        "print(f\"ผลรวมลำดับของค่าบวก: {sum_positive_ranks}\")\n",
        "print(f\"ผลรวมลำดับของค่าลบ: {sum_negative_ranks}\")\n",
        "\n",
        "# เปรียบเทียบค่าผลรวมลำดับกับ critical value\n",
        "# ตารางค่าที่ใช้ต้องเปรียบเทียบกับผลรวมลำดับที่น้อยกว่า"
      ],
      "metadata": {
        "colab": {
          "base_uri": "https://localhost:8080/"
        },
        "id": "Q-vTND5_KXiE",
        "outputId": "c7725eeb-8bef-4634-a2d3-c45e1ff40064"
      },
      "execution_count": 3,
      "outputs": [
        {
          "output_type": "stream",
          "name": "stdout",
          "text": [
            "data1: [10.  9.  6.]\n",
            "data2: [ 9. 11. 12.]\n",
            "ความแตกต่าง: [-1.  2.  6.]\n",
            "ค่าสัมบูรณ์ของความแตกต่าง: [1. 2. 6.]\n",
            "ลำดับของค่าความแตกต่าง: [1. 2. 3.]\n",
            "ผลรวมลำดับของค่าบวก: 5.0\n",
            "ผลรวมลำดับของค่าลบ: 1.0\n"
          ]
        }
      ]
    }
  ]
}